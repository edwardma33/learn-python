{
 "cells": [
  {
   "cell_type": "code",
   "execution_count": null,
   "metadata": {},
   "outputs": [],
   "source": [
    "soccer_dict = {\n",
    "    \"Ball\": \"The thing that is kicked\",\n",
    "    \"Pitch\": \"The field\",\n",
    "    \"Player\": \"Person on the field playing the game\",\n",
    "}"
   ]
  },
  {
   "cell_type": "code",
   "execution_count": null,
   "metadata": {},
   "outputs": [],
   "source": [
    "#Retrieving items from a dictionary\n",
    "print(soccer_dict[\"Ball\"])"
   ]
  },
  {
   "cell_type": "code",
   "execution_count": null,
   "metadata": {},
   "outputs": [],
   "source": [
    "#Adding new items to a dictionary\n",
    "soccer_dict[\"goal\"] = \"The box players try to kick the ball in\"\n",
    "print(soccer_dict)"
   ]
  },
  {
   "cell_type": "code",
   "execution_count": null,
   "metadata": {},
   "outputs": [],
   "source": [
    "#Wiping an existing dictionary\n",
    "soccer_dict = {}\n",
    "print(soccer_dict)"
   ]
  },
  {
   "cell_type": "code",
   "execution_count": null,
   "metadata": {},
   "outputs": [],
   "source": [
    "#Editing an item\n",
    "soccer_dict[\"player\"] = \"The people playing the game, not including the refs\""
   ]
  },
  {
   "cell_type": "code",
   "execution_count": null,
   "metadata": {},
   "outputs": [],
   "source": [
    "#Loop through a dictionary\n",
    "for i in soccer_dict:\n",
    "    print(i)\n",
    "    print(soccer_dict[i])\n",
    "    print(\"------------------------\")"
   ]
  },
  {
   "cell_type": "code",
   "execution_count": 11,
   "metadata": {},
   "outputs": [
    {
     "name": "stdout",
     "output_type": "stream",
     "text": [
      "66\n"
     ]
    }
   ],
   "source": [
    "# Checking how to find the highest number in a data structure\n",
    "def find_highest_num(numbers):\n",
    "    highest_num = 0\n",
    "    for num in numbers:\n",
    "        if highest_num - num < 0:\n",
    "            highest_num = num\n",
    "    print(highest_num)\n",
    "\n",
    "find_highest_num([3,7,1,9,4,33,22,4,66,3,5,3,65,2])"
   ]
  }
 ],
 "metadata": {
  "kernelspec": {
   "display_name": "Python 3",
   "language": "python",
   "name": "python3"
  },
  "language_info": {
   "codemirror_mode": {
    "name": "ipython",
    "version": 3
   },
   "file_extension": ".py",
   "mimetype": "text/x-python",
   "name": "python",
   "nbconvert_exporter": "python",
   "pygments_lexer": "ipython3",
   "version": "3.11.1 (v3.11.1:a7a450f84a, Dec  6 2022, 15:24:06) [Clang 13.0.0 (clang-1300.0.29.30)]"
  },
  "orig_nbformat": 4,
  "vscode": {
   "interpreter": {
    "hash": "aee8b7b246df8f9039afb4144a1f6fd8d2ca17a180786b69acc140d282b71a49"
   }
  }
 },
 "nbformat": 4,
 "nbformat_minor": 2
}
