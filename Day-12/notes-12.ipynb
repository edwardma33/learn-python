{
 "cells": [
  {
   "cell_type": "code",
   "execution_count": null,
   "metadata": {},
   "outputs": [],
   "source": [
    "#Python has no block scope if/else/for/while\n",
    "enemies = [\"skeleton\", \"zombie\", \"alien\"]\n",
    "game_level = 3\n",
    "\n",
    "if game_level < 5:\n",
    "  new_enemy = enemies[0]\n",
    "\n",
    "print(new_enemy)"
   ]
  },
  {
   "cell_type": "code",
   "execution_count": 6,
   "metadata": {},
   "outputs": [
    {
     "name": "stdout",
     "output_type": "stream",
     "text": [
      "The are 2 enemies!\n"
     ]
    }
   ],
   "source": [
    "#The \"global enemies\" line is used to be able to access the var inside of a function\n",
    "enemies = 1\n",
    "\n",
    "def how_many_enemies():\n",
    "  global enemies\n",
    "  enemies += 1\n",
    "  print(f\"The are {enemies} enemies!\")\n",
    "\n",
    "how_many_enemies()"
   ]
  },
  {
   "cell_type": "code",
   "execution_count": null,
   "metadata": {},
   "outputs": [],
   "source": [
    "#Global Constants\n",
    "#Good practice to name in all caps are a reminder not to change it \n",
    "PI = 3.14159"
   ]
  }
 ],
 "metadata": {
  "kernelspec": {
   "display_name": "Python 3",
   "language": "python",
   "name": "python3"
  },
  "language_info": {
   "codemirror_mode": {
    "name": "ipython",
    "version": 3
   },
   "file_extension": ".py",
   "mimetype": "text/x-python",
   "name": "python",
   "nbconvert_exporter": "python",
   "pygments_lexer": "ipython3",
   "version": "3.11.1 (v3.11.1:a7a450f84a, Dec  6 2022, 15:24:06) [Clang 13.0.0 (clang-1300.0.29.30)]"
  },
  "orig_nbformat": 4,
  "vscode": {
   "interpreter": {
    "hash": "aee8b7b246df8f9039afb4144a1f6fd8d2ca17a180786b69acc140d282b71a49"
   }
  }
 },
 "nbformat": 4,
 "nbformat_minor": 2
}
